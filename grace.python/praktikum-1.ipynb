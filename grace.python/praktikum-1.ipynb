{
 "cells": [
  {
   "cell_type": "code",
   "execution_count": 5,
   "metadata": {},
   "outputs": [
    {
     "name": "stdout",
     "output_type": "stream",
     "text": [
      "Hasil Penjumlahan =  26\n",
      "Hasil Pemgurangan =  14\n",
      "Hasil Pembagian =  3.3333333333333335\n",
      "Hasil Perkalian =  120\n",
      "Hasil Gabungan =  Hello, World\n",
      "Hasil Ulang =  HelloHelloHello\n",
      "Hasil Panjang_Kata1 =  5\n",
      "Hasil Posisi =  0\n",
      "Hasil Gabungan = Hello, World\n"
     ]
    }
   ],
   "source": [
    "Nilai1 = 20\n",
    "Nilai2 = 6\n",
    "Data1 = 'Hello'\n",
    "Data2 = 'World'\n",
    "\n",
    "#Operasi Matematika\n",
    "penjumlahan = Nilai1 + Nilai2\n",
    "pengurangan = Nilai1 - Nilai2\n",
    "pembagian = Nilai1 / Nilai2\n",
    "perkalian = Nilai1 * Nilai2\n",
    "\n",
    "#Operasi String\n",
    "gabungan = Data1 + \", \" + Data2\n",
    "ulang = Data1 * 3\n",
    "panjang_kata1 = len(Data1)\n",
    "posisi = Data2.index(\"W\")\n",
    "\n",
    "#cetak hasil\n",
    "print(\"Hasil Penjumlahan = \", penjumlahan)\n",
    "print(\"Hasil Pemgurangan = \", pengurangan)\n",
    "print(\"Hasil Pembagian = \", pembagian)\n",
    "print(\"Hasil Perkalian = \", perkalian)\n",
    "print(\"Hasil Gabungan = \", gabungan)\n",
    "print(\"Hasil Ulang = \", ulang)\n",
    "print(\"Hasil Panjang_Kata1 = \", panjang_kata1)\n",
    "print(\"Hasil Posisi = \", posisi)\n",
    "\n",
    "print(f\"Hasil Gabungan = {gabungan}\")\n"
   ]
  },
  {
   "cell_type": "code",
   "execution_count": 6,
   "metadata": {},
   "outputs": [
    {
     "name": "stdout",
     "output_type": "stream",
     "text": [
      "Nilai C\n"
     ]
    }
   ],
   "source": [
    "nilai = 74\n",
    "if nilai >= 85:\n",
    "    print(\"Nilai A\")\n",
    "elif nilai >= 75:\n",
    "    print('Nilai B')\n",
    "elif nilai >= 60:\n",
    "    print('Nilai C')\n",
    "else:\n",
    "    print('Anda Tidak Lulus')"
   ]
  },
  {
   "cell_type": "code",
   "execution_count": 7,
   "metadata": {},
   "outputs": [
    {
     "name": "stdout",
     "output_type": "stream",
     "text": [
      "1\n",
      "2\n",
      "3\n",
      "4\n",
      "5\n"
     ]
    }
   ],
   "source": [
    "angka = [1,2,3,4,5]\n",
    "\n",
    "for x in angka:\n",
    "    print(x)\n",
    "    "
   ]
  },
  {
   "cell_type": "code",
   "execution_count": 8,
   "metadata": {},
   "outputs": [
    {
     "name": "stdout",
     "output_type": "stream",
     "text": [
      "0\n",
      "1\n",
      "2\n",
      "3\n",
      "4\n"
     ]
    }
   ],
   "source": [
    "for x in range(5):\n",
    "    print(x)\n",
    "    "
   ]
  },
  {
   "cell_type": "code",
   "execution_count": 9,
   "metadata": {},
   "outputs": [
    {
     "name": "stdout",
     "output_type": "stream",
     "text": [
      "1\n",
      "2\n",
      "3\n",
      "4\n",
      "5\n"
     ]
    }
   ],
   "source": [
    "angka = 1\n",
    "\n",
    "while angka <= 5:\n",
    "    print(angka)\n",
    "    angka +=1"
   ]
  },
  {
   "cell_type": "code",
   "execution_count": 11,
   "metadata": {},
   "outputs": [
    {
     "name": "stdout",
     "output_type": "stream",
     "text": [
      "Mahasiswa atas nama Grace dengan NIM T3122185 memprogram sks sebanyak 24 sks\n",
      "Mahasiswa atas nama Yunda dengan NIM T3122187 memprogram sks sebanyak 24 sks\n"
     ]
    }
   ],
   "source": [
    "class Mahasiswa:\n",
    "    def __init__(self, nim, nama, sks):\n",
    "        self.nim = nim\n",
    "        self.nama = nama\n",
    "        self.sks = sks\n",
    "\n",
    "    def tampil(self):\n",
    "        return f\"Mahasiswa atas nama {self.nama} dengan NIM {self.nim} memprogram sks sebanyak {self.sks} sks\"\n",
    "\n",
    "objMhs1= Mahasiswa(\"T3122185\",\"Grace\",24)\n",
    "objMhs2= Mahasiswa(\"T3122187\",\"Yunda\",24)\n",
    "print(objMhs1.tampil())\n",
    "print(objMhs2.tampil())\n"
   ]
  },
  {
   "cell_type": "code",
   "execution_count": 13,
   "metadata": {},
   "outputs": [
    {
     "name": "stdout",
     "output_type": "stream",
     "text": [
      "Tipe Motor =  Honda\n",
      "Merek Motor =  Beat\n",
      "Warna Motor =  Biru\n",
      "Motor Start\n",
      "Motor Stop\n",
      "Motor Berhenti\n",
      "Motor Melaju\n",
      "Merek Motor = Beat , dengan Tipe = Honda berwarna Biru\n"
     ]
    }
   ],
   "source": [
    "class Motor:\n",
    "    tipe = \"Honda\"\n",
    "    merek = \"Beat\"\n",
    "    warna = \"Biru\"\n",
    "\n",
    "    def gerak(self):\n",
    "        print(\"Motor Start\")\n",
    "        print(\"Motor Stop\")\n",
    "        print(\"Motor Berhenti\")\n",
    "        print(\"Motor Melaju\")\n",
    "\n",
    "    def tampil(self):\n",
    "        return f\"Merek Motor = {self.merek} , dengan Tipe = {self.tipe} berwarna {self.warna}\"\n",
    "objMotor = Motor()\n",
    "print(\"Tipe Motor = \",objMotor.tipe)\n",
    "print(\"Merek Motor = \",objMotor.merek)\n",
    "print(\"Warna Motor = \",objMotor.warna)\n",
    "objMotor.gerak()\n",
    "print(objMotor.tampil())"
   ]
  },
  {
   "cell_type": "code",
   "execution_count": 14,
   "metadata": {},
   "outputs": [
    {
     "name": "stdout",
     "output_type": "stream",
     "text": [
      "Volume Kotak =  24\n"
     ]
    }
   ],
   "source": [
    "class kotak:\n",
    "    panjang = 4\n",
    "    lebar = 3\n",
    "    tinggi = 2\n",
    "\n",
    "    def hitungVolume(self):\n",
    "        return self.panjang*self.lebar*self.tinggi\n",
    "\n",
    "objKotak = kotak()\n",
    "print(\"Volume Kotak = \",objKotak.hitungVolume())\n"
   ]
  }
 ],
 "metadata": {
  "kernelspec": {
   "display_name": "Python 3",
   "language": "python",
   "name": "python3"
  },
  "language_info": {
   "codemirror_mode": {
    "name": "ipython",
    "version": 3
   },
   "file_extension": ".py",
   "mimetype": "text/x-python",
   "name": "python",
   "nbconvert_exporter": "python",
   "pygments_lexer": "ipython3",
   "version": "3.11.0"
  }
 },
 "nbformat": 4,
 "nbformat_minor": 2
}
